{
 "cells": [
  {
   "cell_type": "code",
   "execution_count": 1,
   "id": "b7248a88",
   "metadata": {},
   "outputs": [
    {
     "name": "stdout",
     "output_type": "stream",
     "text": [
      "Requirement already satisfied: matplotlib in c:\\users\\tamzid\\anaconda3\\lib\\site-packages (3.3.4)\n",
      "Requirement already satisfied: kiwisolver>=1.0.1 in c:\\users\\tamzid\\anaconda3\\lib\\site-packages (from matplotlib) (1.3.1)\n",
      "Requirement already satisfied: pyparsing!=2.0.4,!=2.1.2,!=2.1.6,>=2.0.3 in c:\\users\\tamzid\\anaconda3\\lib\\site-packages (from matplotlib) (2.4.7)\n",
      "Requirement already satisfied: numpy>=1.15 in c:\\users\\tamzid\\anaconda3\\lib\\site-packages (from matplotlib) (1.20.1)\n",
      "Requirement already satisfied: cycler>=0.10 in c:\\users\\tamzid\\anaconda3\\lib\\site-packages (from matplotlib) (0.10.0)\n",
      "Requirement already satisfied: python-dateutil>=2.1 in c:\\users\\tamzid\\anaconda3\\lib\\site-packages (from matplotlib) (2.8.1)\n",
      "Requirement already satisfied: pillow>=6.2.0 in c:\\users\\tamzid\\anaconda3\\lib\\site-packages (from matplotlib) (8.2.0)\n",
      "Requirement already satisfied: six in c:\\users\\tamzid\\anaconda3\\lib\\site-packages (from cycler>=0.10->matplotlib) (1.15.0)\n",
      "\n",
      "[notice] A new release of pip available: 22.2 -> 22.2.1\n",
      "[notice] To update, run: python.exe -m pip install --upgrade pip\n"
     ]
    }
   ],
   "source": [
    "!pip install matplotlib"
   ]
  },
  {
   "cell_type": "code",
   "execution_count": 3,
   "id": "9d3cf0c9",
   "metadata": {},
   "outputs": [],
   "source": [
    "import pandas as pd"
   ]
  },
  {
   "cell_type": "markdown",
   "id": "7b975bbe",
   "metadata": {},
   "source": [
    "1. Liner Activation function\n",
    "2. Relu Activation Function\n",
    "3. Sigmod Activation Function\n",
    "4. tanh Activation Function\n",
    "5. Softmax ctivation Function"
   ]
  },
  {
   "cell_type": "code",
   "execution_count": 4,
   "id": "b5633f40",
   "metadata": {},
   "outputs": [],
   "source": [
    "# Y= mx+c \n",
    "\n",
    "# Y=dep\n",
    "# x=ind\n",
    "# m=slope\n",
    "# c=constant\n",
    "\n",
    "# Y=10\n",
    "# slope=(Y2-Y1)/(X2-X1)\n",
    "\n",
    "# 1. Matplotlib\n",
    "# 2. Plotly\n",
    "# 3.Seaborn\n",
    "# 4.D3.js\n",
    "\n",
    "import math\n",
    "import numpy as np\n",
    "import matplotlib.pyplot as plt\n",
    "%matplotlib inline"
   ]
  },
  {
   "cell_type": "code",
   "execution_count": 10,
   "id": "35d0705a",
   "metadata": {},
   "outputs": [],
   "source": [
    "# Take few random number\n",
    "# number=np.random.rand(10) #positive\n",
    "# number=np.random.randn(10) # Both Positive and Negative\n",
    "# number=np.random.randint(10) # only integer\n",
    "# number=np.random.randint(1,10,5) # only integer\n",
    "# number"
   ]
  },
  {
   "cell_type": "code",
   "execution_count": 12,
   "id": "ed0a17a7",
   "metadata": {},
   "outputs": [
    {
     "data": {
      "text/plain": [
       "array([-2.00000000e+01, -1.98000000e+01, -1.96000000e+01, -1.94000000e+01,\n",
       "       -1.92000000e+01, -1.90000000e+01, -1.88000000e+01, -1.86000000e+01,\n",
       "       -1.84000000e+01, -1.82000000e+01, -1.80000000e+01, -1.78000000e+01,\n",
       "       -1.76000000e+01, -1.74000000e+01, -1.72000000e+01, -1.70000000e+01,\n",
       "       -1.68000000e+01, -1.66000000e+01, -1.64000000e+01, -1.62000000e+01,\n",
       "       -1.60000000e+01, -1.58000000e+01, -1.56000000e+01, -1.54000000e+01,\n",
       "       -1.52000000e+01, -1.50000000e+01, -1.48000000e+01, -1.46000000e+01,\n",
       "       -1.44000000e+01, -1.42000000e+01, -1.40000000e+01, -1.38000000e+01,\n",
       "       -1.36000000e+01, -1.34000000e+01, -1.32000000e+01, -1.30000000e+01,\n",
       "       -1.28000000e+01, -1.26000000e+01, -1.24000000e+01, -1.22000000e+01,\n",
       "       -1.20000000e+01, -1.18000000e+01, -1.16000000e+01, -1.14000000e+01,\n",
       "       -1.12000000e+01, -1.10000000e+01, -1.08000000e+01, -1.06000000e+01,\n",
       "       -1.04000000e+01, -1.02000000e+01, -1.00000000e+01, -9.80000000e+00,\n",
       "       -9.60000000e+00, -9.40000000e+00, -9.20000000e+00, -9.00000000e+00,\n",
       "       -8.80000000e+00, -8.60000000e+00, -8.40000000e+00, -8.20000000e+00,\n",
       "       -8.00000000e+00, -7.80000000e+00, -7.60000000e+00, -7.40000000e+00,\n",
       "       -7.20000000e+00, -7.00000000e+00, -6.80000000e+00, -6.60000000e+00,\n",
       "       -6.40000000e+00, -6.20000000e+00, -6.00000000e+00, -5.80000000e+00,\n",
       "       -5.60000000e+00, -5.40000000e+00, -5.20000000e+00, -5.00000000e+00,\n",
       "       -4.80000000e+00, -4.60000000e+00, -4.40000000e+00, -4.20000000e+00,\n",
       "       -4.00000000e+00, -3.80000000e+00, -3.60000000e+00, -3.40000000e+00,\n",
       "       -3.20000000e+00, -3.00000000e+00, -2.80000000e+00, -2.60000000e+00,\n",
       "       -2.40000000e+00, -2.20000000e+00, -2.00000000e+00, -1.80000000e+00,\n",
       "       -1.60000000e+00, -1.40000000e+00, -1.20000000e+00, -1.00000000e+00,\n",
       "       -8.00000000e-01, -6.00000000e-01, -4.00000000e-01, -2.00000000e-01,\n",
       "       -7.10542736e-14,  2.00000000e-01,  4.00000000e-01,  6.00000000e-01,\n",
       "        8.00000000e-01,  1.00000000e+00,  1.20000000e+00,  1.40000000e+00,\n",
       "        1.60000000e+00,  1.80000000e+00,  2.00000000e+00,  2.20000000e+00,\n",
       "        2.40000000e+00,  2.60000000e+00,  2.80000000e+00,  3.00000000e+00,\n",
       "        3.20000000e+00,  3.40000000e+00,  3.60000000e+00,  3.80000000e+00,\n",
       "        4.00000000e+00,  4.20000000e+00,  4.40000000e+00,  4.60000000e+00,\n",
       "        4.80000000e+00,  5.00000000e+00,  5.20000000e+00,  5.40000000e+00,\n",
       "        5.60000000e+00,  5.80000000e+00,  6.00000000e+00,  6.20000000e+00,\n",
       "        6.40000000e+00,  6.60000000e+00,  6.80000000e+00,  7.00000000e+00,\n",
       "        7.20000000e+00,  7.40000000e+00,  7.60000000e+00,  7.80000000e+00,\n",
       "        8.00000000e+00,  8.20000000e+00,  8.40000000e+00,  8.60000000e+00,\n",
       "        8.80000000e+00,  9.00000000e+00,  9.20000000e+00,  9.40000000e+00,\n",
       "        9.60000000e+00,  9.80000000e+00,  1.00000000e+01,  1.02000000e+01,\n",
       "        1.04000000e+01,  1.06000000e+01,  1.08000000e+01,  1.10000000e+01,\n",
       "        1.12000000e+01,  1.14000000e+01,  1.16000000e+01,  1.18000000e+01,\n",
       "        1.20000000e+01,  1.22000000e+01,  1.24000000e+01,  1.26000000e+01,\n",
       "        1.28000000e+01,  1.30000000e+01,  1.32000000e+01,  1.34000000e+01,\n",
       "        1.36000000e+01,  1.38000000e+01,  1.40000000e+01,  1.42000000e+01,\n",
       "        1.44000000e+01,  1.46000000e+01,  1.48000000e+01,  1.50000000e+01,\n",
       "        1.52000000e+01,  1.54000000e+01,  1.56000000e+01,  1.58000000e+01,\n",
       "        1.60000000e+01,  1.62000000e+01,  1.64000000e+01,  1.66000000e+01,\n",
       "        1.68000000e+01,  1.70000000e+01,  1.72000000e+01,  1.74000000e+01,\n",
       "        1.76000000e+01,  1.78000000e+01,  1.80000000e+01,  1.82000000e+01,\n",
       "        1.84000000e+01,  1.86000000e+01,  1.88000000e+01,  1.90000000e+01,\n",
       "        1.92000000e+01,  1.94000000e+01,  1.96000000e+01,  1.98000000e+01])"
      ]
     },
     "execution_count": 12,
     "metadata": {},
     "output_type": "execute_result"
    }
   ],
   "source": [
    "randomNumber=np.arange(-20.0,20.0,0.2)\n",
    "randomNumber"
   ]
  },
  {
   "cell_type": "code",
   "execution_count": 18,
   "id": "455265ea",
   "metadata": {},
   "outputs": [],
   "source": [
    "def LinearFunction(number):\n",
    "    a=[]\n",
    "    #loop\n",
    "    for i in number:\n",
    "        a.append(i) # add value for last position\n",
    "    return a   "
   ]
  },
  {
   "cell_type": "code",
   "execution_count": 19,
   "id": "610e14ee",
   "metadata": {},
   "outputs": [],
   "source": [
    "#print(LinerFunction(randomNumber))"
   ]
  },
  {
   "cell_type": "code",
   "execution_count": 21,
   "id": "a016a64a",
   "metadata": {},
   "outputs": [
    {
     "data": {
      "image/png": "[encoded data removed]",
      "text/plain": [
       "<Figure size 432x288 with 1 Axes>"
      ]
     },
     "metadata": {
      "needs_background": "light"
     },
     "output_type": "display_data"
    }
   ],
   "source": [
    "LinearLine=LinearFunction(randomNumber)\n",
    "plt.plot(randomNumber,LinearLine)\n",
    "\n",
    "ax=plt.gca()\n",
    "plt.show()"
   ]
  },
  {
   "cell_type": "code",
   "execution_count": 22,
   "id": "fc94999e",
   "metadata": {},
   "outputs": [],
   "source": [
    "#help(plt.gca())"
   ]
  },
  {
   "cell_type": "code",
   "execution_count": null,
   "id": "770245fb",
   "metadata": {},
   "outputs": [],
   "source": [
    "# 1. Number Pattern\n",
    "\n",
    "# i Continuous\n",
    "#     Regression\n",
    "# ii Discrete\n",
    "#     Catagorical or Classification"
   ]
  },
  {
   "cell_type": "markdown",
   "id": "5d129957",
   "metadata": {},
   "source": [
    "# Relu"
   ]
  },
  {
   "cell_type": "code",
   "execution_count": 23,
   "id": "82805562",
   "metadata": {},
   "outputs": [],
   "source": [
    "import math\n",
    "import numpy as np\n",
    "import matplotlib.pyplot as plt\n",
    "%matplotlib inline"
   ]
  },
  {
   "cell_type": "code",
   "execution_count": 24,
   "id": "14eb9891",
   "metadata": {},
   "outputs": [],
   "source": [
    "def ReluFunction(number):\n",
    "    numberStore=[]\n",
    "    for i in number:\n",
    "        initialvalue=0\n",
    "        if i > 0:\n",
    "            initialvalue= i\n",
    "        numberStore.append(initialvalue)\n",
    "    return numberStore     "
   ]
  },
  {
   "cell_type": "code",
   "execution_count": 25,
   "id": "40c183cc",
   "metadata": {},
   "outputs": [
    {
     "data": {
      "image/png": "[encoded data removed]",
      "text/plain": [
       "<Figure size 432x288 with 1 Axes>"
      ]
     },
     "metadata": {
      "needs_background": "light"
     },
     "output_type": "display_data"
    }
   ],
   "source": [
    "randomNumber=np.arange(-20.0,20.0,0.2)\n",
    "\n",
    "ReluLine=ReluFunction(randomNumber)\n",
    "plt.plot(randomNumber,ReluLine)\n",
    "\n",
    "ax=plt.gca()\n",
    "plt.show()"
   ]
  },
  {
   "cell_type": "markdown",
   "id": "36fd70eb",
   "metadata": {},
   "source": [
    "# Sigmoid"
   ]
  },
  {
   "cell_type": "code",
   "execution_count": 26,
   "id": "b5bd5bcc",
   "metadata": {},
   "outputs": [],
   "source": [
    "import math\n",
    "import numpy as np\n",
    "import matplotlib.pyplot as plt\n",
    "%matplotlib inline"
   ]
  },
  {
   "cell_type": "code",
   "execution_count": 28,
   "id": "a5e4b66d",
   "metadata": {},
   "outputs": [],
   "source": [
    "def SigmoidFunction(number):\n",
    "    sigmoidDataStore= []\n",
    "    for i in number:\n",
    "        each_result=1/(1+math.exp(-i))\n",
    "        #result=1/(1+math.exp(-i)\n",
    "        sigmoidDataStore.append(each_result)\n",
    "    return sigmoidDataStore        "
   ]
  },
  {
   "cell_type": "code",
   "execution_count": 29,
   "id": "05757630",
   "metadata": {},
   "outputs": [
    {
     "data": {
      "image/png": "[encoded data removed]",
      "text/plain": [
       "<Figure size 432x288 with 1 Axes>"
      ]
     },
     "metadata": {
      "needs_background": "light"
     },
     "output_type": "display_data"
    }
   ],
   "source": [
    "randomNumber=np.arange(-20.0,20.0,0.2)\n",
    "\n",
    "SigmoidLine=SigmoidFunction(randomNumber)\n",
    "plt.plot(randomNumber,SigmoidLine)\n",
    "\n",
    "ax=plt.gca()\n",
    "plt.show()"
   ]
  },
  {
   "cell_type": "markdown",
   "id": "24ee182d",
   "metadata": {},
   "source": [
    "# Tanh"
   ]
  },
  {
   "cell_type": "code",
   "execution_count": 30,
   "id": "7b018de1",
   "metadata": {},
   "outputs": [],
   "source": [
    "import math\n",
    "import numpy as np\n",
    "import matplotlib.pyplot as plt\n",
    "%matplotlib inline"
   ]
  },
  {
   "cell_type": "code",
   "execution_count": 38,
   "id": "22c2c7a8",
   "metadata": {},
   "outputs": [],
   "source": [
    "def TanhFunction(number):\n",
    "    tanhDataStore= []\n",
    "    for i in number:\n",
    "        each_result=math.tanh(i)\n",
    "        tanhDataStore.append(each_result)\n",
    "    return tanhDataStore"
   ]
  },
  {
   "cell_type": "code",
   "execution_count": 36,
   "id": "f89863d1",
   "metadata": {},
   "outputs": [],
   "source": [
    "def TanhFunction(number):\n",
    "    tanhDataStore= []\n",
    "    for i in number:\n",
    "        initialvalue= 0\n",
    "        if i< 0:\n",
    "            initialvlue=-1\n",
    "            tanhDataStore.append(initialvlue)\n",
    "        elif i> 0:\n",
    "            initialvlue=1    \n",
    "            tanhDataStore.append(initialvlue)\n",
    "    return tanhDataStore"
   ]
  },
  {
   "cell_type": "code",
   "execution_count": 39,
   "id": "2e1aeb1c",
   "metadata": {},
   "outputs": [
    {
     "data": {
      "image/png": "[encoded data removed]",
      "text/plain": [
       "<Figure size 432x288 with 1 Axes>"
      ]
     },
     "metadata": {
      "needs_background": "light"
     },
     "output_type": "display_data"
    }
   ],
   "source": [
    "randomNumber=np.arange(-20.0,20.0,0.2)\n",
    "\n",
    "TanhLine=TanhFunction(randomNumber)\n",
    "plt.plot(randomNumber,TanhLine)\n",
    "\n",
    "ax=plt.gca()\n",
    "plt.show()"
   ]
  },
  {
   "cell_type": "markdown",
   "id": "637f62b3",
   "metadata": {},
   "source": [
    "# Softmax"
   ]
  },
  {
   "cell_type": "code",
   "execution_count": 50,
   "id": "078c55c5",
   "metadata": {},
   "outputs": [],
   "source": [
    "import math\n",
    "from numpy import exp\n",
    "import numpy as np\n",
    "import matplotlib.pyplot as plt\n",
    "%matplotlib inline"
   ]
  },
  {
   "cell_type": "code",
   "execution_count": 51,
   "id": "0a9acb1a",
   "metadata": {},
   "outputs": [],
   "source": [
    "def softmaxFunction(number):\n",
    "    e = exp(number)/exp(number).sum()\n",
    "    return e"
   ]
  },
  {
   "cell_type": "code",
   "execution_count": 54,
   "id": "63fc5884",
   "metadata": {},
   "outputs": [
    {
     "name": "stdout",
     "output_type": "stream",
     "text": [
      "Probability Result: [3.54559269e-05 7.12151329e-04 1.93582802e-03 3.88821451e-02\n",
      " 9.63792018e-05 1.05692628e-01 1.05692628e-01 3.88821451e-02\n",
      " 9.63792018e-05 3.88821451e-02 1.43039418e-02 3.54559269e-05\n",
      " 1.43039418e-02 3.54559269e-05 2.61985833e-04 1.93582802e-03\n",
      " 1.93582802e-03 5.26212612e-03 9.63792018e-05 1.05692628e-01\n",
      " 2.61985833e-04 1.43039418e-02 3.54559269e-05 9.63792018e-05\n",
      " 7.12151329e-04 7.12151329e-04 3.88821451e-02 3.88821451e-02\n",
      " 3.54559269e-05 1.93582802e-03 3.88821451e-02 2.61985833e-04\n",
      " 1.93582802e-03 1.43039418e-02 1.05692628e-01 1.93582802e-03\n",
      " 3.54559269e-05 3.88821451e-02 1.05692628e-01 7.12151329e-04\n",
      " 3.54559269e-05 9.63792018e-05 9.63792018e-05 3.88821451e-02\n",
      " 9.63792018e-05 3.88821451e-02 3.54559269e-05 1.43039418e-02\n",
      " 1.43039418e-02 1.43039418e-02]\n",
      "Total: 1.0000000000000004\n"
     ]
    }
   ],
   "source": [
    "data=np.random.randint(1,10,50)\n",
    "result = softmaxFunction(data)\n",
    "print('Probability Result:', result)\n",
    "print('Total:',sum(result))\n",
    "\n"
   ]
  },
  {
   "cell_type": "code",
   "execution_count": 55,
   "id": "dd18b153",
   "metadata": {},
   "outputs": [
    {
     "data": {
      "image/png": "[encoded data removed]",
      "text/plain": [
       "<Figure size 432x288 with 1 Axes>"
      ]
     },
     "metadata": {
      "needs_background": "light"
     },
     "output_type": "display_data"
    }
   ],
   "source": [
    "plt.plot(data, result)\n",
    "\n",
    "ax=plt.gca()\n",
    "plt.show()"
   ]
  },
  {
   "cell_type": "code",
   "execution_count": null,
   "id": "23afca77",
   "metadata": {},
   "outputs": [],
   "source": []
  }
 ],
 "metadata": {
  "kernelspec": {
   "display_name": "Python 3",
   "language": "python",
   "name": "python3"
  },
  "language_info": {
   "codemirror_mode": {
    "name": "ipython",
    "version": 3
   },
   "file_extension": ".py",
   "mimetype": "text/x-python",
   "name": "python",
   "nbconvert_exporter": "python",
   "pygments_lexer": "ipython3",
   "version": "3.8.8"
  }
 },
 "nbformat": 4,
 "nbformat_minor": 5
}
