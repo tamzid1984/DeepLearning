{
  "cells": [
    {
      "cell_type": "markdown",
      "metadata": {
        "id": "view-in-github",
        "colab_type": "text"
      },
      "source": [
        "<a href=\"https://colab.research.google.com/github/tamzid1984/DeepLearning/blob/main/AlexNetTamzid.ipynb\" target=\"_parent\"><img src=\"https://colab.research.google.com/assets/colab-badge.svg\" alt=\"Open In Colab\"/></a>"
      ]
    },
    {
      "cell_type": "code",
      "execution_count": 30,
      "id": "155b3ccd-c671-4f0f-8381-8ecdf8e572ba",
      "metadata": {
        "id": "155b3ccd-c671-4f0f-8381-8ecdf8e572ba"
      },
      "outputs": [],
      "source": [
        "import tensorflow as tf\n",
        "from tensorflow.keras.layers import MaxPooling2D, Dense, Conv2D, Flatten\n",
        "from tensorflow.keras.models import Sequential\n",
        "from tensorflow.keras.layers import Dropout"
      ]
    },
    {
      "cell_type": "code",
      "execution_count": 40,
      "id": "af5d8ef7-20b6-4616-aee8-9796452ba894",
      "metadata": {
        "id": "af5d8ef7-20b6-4616-aee8-9796452ba894"
      },
      "outputs": [],
      "source": [
        "model = Sequential()\n",
        "\n",
        "# Input Layer\n",
        "model.add(Conv2D(96, kernel_size = (11, 11), strides = 4, activation = \"relu\", input_shape = (224, 224, 3)))\n",
        "model.add(MaxPooling2D(pool_size = (3, 3), strides = 2))\n",
        "\n",
        "# 1st Hidden Layer\n",
        "model.add(Conv2D(256, kernel_size = (5, 5), padding=\"same\", activation = \"relu\"))\n",
        "model.add(MaxPooling2D(pool_size = (3, 3), strides = 2))\n",
        "\n",
        "\n",
        "# 1st Hidden Layer\n",
        "model.add(Conv2D(384, kernel_size = (3, 3),padding=\"same\", activation = \"relu\"))\n",
        "model.add(Conv2D(384, kernel_size = (3, 3),padding=\"same\", activation = \"relu\"))\n",
        "\n",
        "model.add(Conv2D(256, kernel_size = (3, 3),padding=\"same\", activation = \"relu\"))\n",
        "model.add(MaxPooling2D(pool_size = (3, 3), strides = 2))\n",
        "\n",
        "# Flatten Layer\n",
        "model.add(Flatten())\n",
        "\n",
        "#Connected Layer\n",
        "model.add(Dense(4096, activation = \"relu\"))\n",
        "model.add(Dropout(0.5))\n",
        "model.add(Dense(4096,  activation = \"relu\"))\n",
        "model.add(Dropout(0.5))\n",
        "model.add(Dense(1000, activation = \"softmax\"))"
      ]
    },
    {
      "cell_type": "code",
      "execution_count": 41,
      "id": "b6c70440-1254-4f1a-9d84-0eccbbee09c3",
      "metadata": {
        "colab": {
          "base_uri": "https://localhost:8080/"
        },
        "id": "b6c70440-1254-4f1a-9d84-0eccbbee09c3",
        "outputId": "d4966a77-141b-4a65-e20d-24414a10a34b"
      },
      "outputs": [
        {
          "output_type": "stream",
          "name": "stdout",
          "text": [
            "Model: \"sequential_16\"\n",
            "_________________________________________________________________\n",
            " Layer (type)                Output Shape              Param #   \n",
            "=================================================================\n",
            " conv2d_80 (Conv2D)          (None, 54, 54, 96)        34944     \n",
            "                                                                 \n",
            " max_pooling2d_48 (MaxPoolin  (None, 26, 26, 96)       0         \n",
            " g2D)                                                            \n",
            "                                                                 \n",
            " conv2d_81 (Conv2D)          (None, 26, 26, 256)       614656    \n",
            "                                                                 \n",
            " max_pooling2d_49 (MaxPoolin  (None, 12, 12, 256)      0         \n",
            " g2D)                                                            \n",
            "                                                                 \n",
            " conv2d_82 (Conv2D)          (None, 12, 12, 384)       885120    \n",
            "                                                                 \n",
            " conv2d_83 (Conv2D)          (None, 12, 12, 384)       1327488   \n",
            "                                                                 \n",
            " conv2d_84 (Conv2D)          (None, 12, 12, 256)       884992    \n",
            "                                                                 \n",
            " max_pooling2d_50 (MaxPoolin  (None, 5, 5, 256)        0         \n",
            " g2D)                                                            \n",
            "                                                                 \n",
            " flatten_16 (Flatten)        (None, 6400)              0         \n",
            "                                                                 \n",
            " dense_43 (Dense)            (None, 4096)              26218496  \n",
            "                                                                 \n",
            " dropout_3 (Dropout)         (None, 4096)              0         \n",
            "                                                                 \n",
            " dense_44 (Dense)            (None, 4096)              16781312  \n",
            "                                                                 \n",
            " dropout_4 (Dropout)         (None, 4096)              0         \n",
            "                                                                 \n",
            " dense_45 (Dense)            (None, 1000)              4097000   \n",
            "                                                                 \n",
            "=================================================================\n",
            "Total params: 50,844,008\n",
            "Trainable params: 50,844,008\n",
            "Non-trainable params: 0\n",
            "_________________________________________________________________\n"
          ]
        }
      ],
      "source": [
        "model.summary()"
      ]
    },
    {
      "cell_type": "code",
      "execution_count": null,
      "id": "8533024b-90b0-42fc-a561-5445c911bf69",
      "metadata": {
        "id": "8533024b-90b0-42fc-a561-5445c911bf69"
      },
      "outputs": [],
      "source": []
    }
  ],
  "metadata": {
    "kernelspec": {
      "display_name": "Python 3 (ipykernel)",
      "language": "python",
      "name": "python3"
    },
    "language_info": {
      "codemirror_mode": {
        "name": "ipython",
        "version": 3
      },
      "file_extension": ".py",
      "mimetype": "text/x-python",
      "name": "python",
      "nbconvert_exporter": "python",
      "pygments_lexer": "ipython3",
      "version": "3.7.13"
    },
    "colab": {
      "provenance": [],
      "include_colab_link": true
    }
  },
  "nbformat": 4,
  "nbformat_minor": 5
}