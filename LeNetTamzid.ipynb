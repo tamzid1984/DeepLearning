{
  "cells": [
    {
      "cell_type": "markdown",
      "metadata": {
        "id": "view-in-github",
        "colab_type": "text"
      },
      "source": [
        "<a href=\"https://colab.research.google.com/github/tamzid1984/DeepLearning/blob/main/LeNetTamzid.ipynb\" target=\"_parent\"><img src=\"https://colab.research.google.com/assets/colab-badge.svg\" alt=\"Open In Colab\"/></a>"
      ]
    },
    {
      "cell_type": "code",
      "execution_count": 10,
      "id": "c119bc95-7c20-4219-889d-ee46ac652d33",
      "metadata": {
        "id": "c119bc95-7c20-4219-889d-ee46ac652d33"
      },
      "outputs": [],
      "source": [
        "import tensorflow as tf\n",
        "from tensorflow.keras.layers import AveragePooling2D, Dense, Conv2D, Flatten\n",
        "from tensorflow.keras.models import Sequential"
      ]
    },
    {
      "cell_type": "code",
      "execution_count": 11,
      "id": "bca18af4-63c8-48f5-a655-b7b87b301197",
      "metadata": {
        "id": "bca18af4-63c8-48f5-a655-b7b87b301197"
      },
      "outputs": [],
      "source": [
        "model = Sequential()\n",
        "\n",
        "# Input Layer\n",
        "model.add(Conv2D(16, kernel_size = (5, 5), padding = \"same\", activation = \"sigmoid\", input_shape = (28, 28, 1)))\n",
        "model.add(AveragePooling2D(pool_size = (2, 2), strides = 2))\n",
        "\n",
        "# 1st Hidden Layer\n",
        "model.add(Conv2D(32, kernel_size = (5, 5), activation = \"sigmoid\"))\n",
        "model.add(AveragePooling2D(pool_size = (2, 2), strides = 2))\n",
        "\n",
        "# Flatten Layer\n",
        "model.add(Flatten())\n",
        "\n",
        "#Connected Layer\n",
        "model.add(Dense(120, activation = \"sigmoid\"))\n",
        "model.add(Dense(84,  activation = \"sigmoid\"))\n",
        "model.add(Dense(10, activation = \"softmax\"))"
      ]
    },
    {
      "cell_type": "code",
      "execution_count": 12,
      "id": "fe530bc8-7b6f-424c-830b-ddbee20aa0c1",
      "metadata": {
        "colab": {
          "base_uri": "https://localhost:8080/"
        },
        "id": "fe530bc8-7b6f-424c-830b-ddbee20aa0c1",
        "outputId": "9381cb6a-3d40-4b54-aab7-ea5ca6825092"
      },
      "outputs": [
        {
          "output_type": "stream",
          "name": "stdout",
          "text": [
            "Model: \"sequential_5\"\n",
            "_________________________________________________________________\n",
            " Layer (type)                Output Shape              Param #   \n",
            "=================================================================\n",
            " conv2d_9 (Conv2D)           (None, 28, 28, 16)        416       \n",
            "                                                                 \n",
            " average_pooling2d_8 (Averag  (None, 14, 14, 16)       0         \n",
            " ePooling2D)                                                     \n",
            "                                                                 \n",
            " conv2d_10 (Conv2D)          (None, 10, 10, 32)        12832     \n",
            "                                                                 \n",
            " average_pooling2d_9 (Averag  (None, 5, 5, 32)         0         \n",
            " ePooling2D)                                                     \n",
            "                                                                 \n",
            " flatten_4 (Flatten)         (None, 800)               0         \n",
            "                                                                 \n",
            " dense_12 (Dense)            (None, 120)               96120     \n",
            "                                                                 \n",
            " dense_13 (Dense)            (None, 84)                10164     \n",
            "                                                                 \n",
            " dense_14 (Dense)            (None, 10)                850       \n",
            "                                                                 \n",
            "=================================================================\n",
            "Total params: 120,382\n",
            "Trainable params: 120,382\n",
            "Non-trainable params: 0\n",
            "_________________________________________________________________\n"
          ]
        }
      ],
      "source": [
        "model.summary()"
      ]
    },
    {
      "cell_type": "code",
      "execution_count": null,
      "id": "d3607201-120e-4250-b99c-c8fd3cf5f660",
      "metadata": {
        "id": "d3607201-120e-4250-b99c-c8fd3cf5f660"
      },
      "outputs": [],
      "source": []
    }
  ],
  "metadata": {
    "kernelspec": {
      "display_name": "Python 3 (ipykernel)",
      "language": "python",
      "name": "python3"
    },
    "language_info": {
      "codemirror_mode": {
        "name": "ipython",
        "version": 3
      },
      "file_extension": ".py",
      "mimetype": "text/x-python",
      "name": "python",
      "nbconvert_exporter": "python",
      "pygments_lexer": "ipython3",
      "version": "3.7.13"
    },
    "colab": {
      "provenance": [],
      "include_colab_link": true
    }
  },
  "nbformat": 4,
  "nbformat_minor": 5
}