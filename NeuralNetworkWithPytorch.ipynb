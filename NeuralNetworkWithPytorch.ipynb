{
  "cells": [
    {
      "cell_type": "markdown",
      "metadata": {
        "id": "view-in-github",
        "colab_type": "text"
      },
      "source": [
        "<a href=\"https://colab.research.google.com/github/tamzid1984/DeepLearning/blob/main/NeuralNetworkWithPytorch.ipynb\" target=\"_parent\"><img src=\"https://colab.research.google.com/assets/colab-badge.svg\" alt=\"Open In Colab\"/></a>"
      ]
    },
    {
      "cell_type": "code",
      "execution_count": 1,
      "id": "841f63f6-de05-4a99-9ef5-03dd90a74e16",
      "metadata": {
        "id": "841f63f6-de05-4a99-9ef5-03dd90a74e16"
      },
      "outputs": [],
      "source": [
        "#from torch import nn\n",
        "import torch.nn as nn"
      ]
    },
    {
      "cell_type": "code",
      "execution_count": 2,
      "id": "428fa521-deda-4abe-8407-c153bab2c9eb",
      "metadata": {
        "id": "428fa521-deda-4abe-8407-c153bab2c9eb"
      },
      "outputs": [],
      "source": [
        "from tensorflow.keras.layers import Dense, Conv2D"
      ]
    },
    {
      "cell_type": "code",
      "execution_count": null,
      "id": "7e523282-c842-4c65-ac18-0922374bf529",
      "metadata": {
        "id": "7e523282-c842-4c65-ac18-0922374bf529"
      },
      "outputs": [],
      "source": [
        "# Conv2D(64, kernel_size =(3, 3), filters = 10 ,padding = \"same\")"
      ]
    },
    {
      "cell_type": "code",
      "execution_count": null,
      "id": "66d85dc6-99f4-4d87-9e9e-c3431ead5370",
      "metadata": {
        "id": "66d85dc6-99f4-4d87-9e9e-c3431ead5370"
      },
      "outputs": [],
      "source": [
        "# image_inputShape =(128, 128)\n",
        "# kernel_size =(3, 3) = (98, 98)\n",
        "# filters = 10 --> (10, 10)---> (56, 56)"
      ]
    },
    {
      "cell_type": "code",
      "execution_count": null,
      "id": "192cb852-11bb-4d63-9e32-038a44aaed7f",
      "metadata": {
        "id": "192cb852-11bb-4d63-9e32-038a44aaed7f"
      },
      "outputs": [],
      "source": [
        "# 1. weight\n",
        "# 2. Bias"
      ]
    },
    {
      "cell_type": "code",
      "execution_count": null,
      "id": "e2f78ba3-22c2-45b6-8326-859a89590a54",
      "metadata": {
        "id": "e2f78ba3-22c2-45b6-8326-859a89590a54"
      },
      "outputs": [],
      "source": []
    },
    {
      "cell_type": "code",
      "execution_count": 3,
      "id": "6c0ef9c0-3a2f-4269-8120-8a0ae61887fe",
      "metadata": {
        "id": "6c0ef9c0-3a2f-4269-8120-8a0ae61887fe"
      },
      "outputs": [],
      "source": [
        "class CustomNeuralNetork(nn.Module):\n",
        "    \n",
        "    def __init__(self):\n",
        "        super().__init__()\n",
        "        \n",
        "        #layer1\n",
        "        self.conv1 = nn.Conv2d(in_channels = 1, out_channels = 6, kernel_size = 5)\n",
        "        self.conv2 = nn.Conv2d(in_channels = 6, out_channels = 12, kernel_size = 5)\n",
        "        \n",
        "        # Fully connected. Neural Network\n",
        "        self.fcn1 = nn.Linear(in_features = 12*4*4, out_features = 120)\n",
        "        self.fcn2 = nn.Linear(in_features = 120, out_features = 60)\n",
        "        \n",
        "        # Flatten() --> Connected Layer or Bridge Layer 2D - 1D\n",
        "        self.outNode = nn.Linear(in_features = 60,out_features =10)\n",
        "        \n",
        "        \n",
        "    def forwardPropagation(self, ti):\n",
        "        #return pass\n",
        "        return ti"
      ]
    },
    {
      "cell_type": "code",
      "execution_count": null,
      "id": "a00335ef-db5f-4092-9664-b0a5fda9d0e4",
      "metadata": {
        "id": "a00335ef-db5f-4092-9664-b0a5fda9d0e4"
      },
      "outputs": [],
      "source": [
        "# for i in range(1, 11):\n",
        "#     if i > 12:\n",
        "#         pass\n",
        "#     else:\n",
        "#         print(i)"
      ]
    },
    {
      "cell_type": "code",
      "execution_count": 4,
      "id": "06313cac-5a3e-4d56-a49a-4890eaf59bba",
      "metadata": {
        "id": "06313cac-5a3e-4d56-a49a-4890eaf59bba"
      },
      "outputs": [],
      "source": [
        "network = CustomNeuralNetork() # assin"
      ]
    },
    {
      "cell_type": "code",
      "execution_count": 5,
      "id": "0ac3d120-8141-4a63-8643-5e6ff66e28f7",
      "metadata": {
        "colab": {
          "base_uri": "https://localhost:8080/"
        },
        "id": "0ac3d120-8141-4a63-8643-5e6ff66e28f7",
        "outputId": "ea8650cb-59ca-4584-a379-a68084a0b14b"
      },
      "outputs": [
        {
          "output_type": "stream",
          "name": "stdout",
          "text": [
            "CustomNeuralNetork(\n",
            "  (conv1): Conv2d(1, 6, kernel_size=(5, 5), stride=(1, 1))\n",
            "  (conv2): Conv2d(6, 12, kernel_size=(5, 5), stride=(1, 1))\n",
            "  (fcn1): Linear(in_features=192, out_features=120, bias=True)\n",
            "  (fcn2): Linear(in_features=120, out_features=60, bias=True)\n",
            "  (outNode): Linear(in_features=60, out_features=10, bias=True)\n",
            ")\n"
          ]
        }
      ],
      "source": [
        "print(network)"
      ]
    },
    {
      "cell_type": "code",
      "execution_count": 6,
      "id": "d4eedcc2-0789-43ce-8fcf-a78d2bab14a3",
      "metadata": {
        "colab": {
          "base_uri": "https://localhost:8080/"
        },
        "id": "d4eedcc2-0789-43ce-8fcf-a78d2bab14a3",
        "outputId": "c68b80e3-6887-48c8-d527-a2f016b257b6"
      },
      "outputs": [
        {
          "output_type": "execute_result",
          "data": {
            "text/plain": [
              "Conv2d(1, 6, kernel_size=(5, 5), stride=(1, 1))"
            ]
          },
          "metadata": {},
          "execution_count": 6
        }
      ],
      "source": [
        "network.conv1"
      ]
    },
    {
      "cell_type": "code",
      "execution_count": 7,
      "id": "99513d95-e0b7-4108-8733-bc1ca861c4a1",
      "metadata": {
        "colab": {
          "base_uri": "https://localhost:8080/"
        },
        "id": "99513d95-e0b7-4108-8733-bc1ca861c4a1",
        "outputId": "a043cec9-434b-4fff-eb63-4fd22383ed28"
      },
      "outputs": [
        {
          "output_type": "execute_result",
          "data": {
            "text/plain": [
              "Parameter containing:\n",
              "tensor([[[[-0.1268, -0.0692,  0.1429,  0.1553,  0.0035],\n",
              "          [ 0.0405, -0.1061,  0.1719, -0.1120,  0.1758],\n",
              "          [-0.0225,  0.0229,  0.1188,  0.1417,  0.0701],\n",
              "          [-0.1319,  0.1337,  0.1999,  0.1889, -0.1148],\n",
              "          [-0.0305,  0.1229,  0.1445,  0.1134,  0.0534]]],\n",
              "\n",
              "\n",
              "        [[[-0.1145,  0.0430,  0.0188, -0.0913, -0.0435],\n",
              "          [-0.0577,  0.1053,  0.1877,  0.1113,  0.1083],\n",
              "          [-0.1542, -0.0332, -0.1029, -0.1679, -0.0407],\n",
              "          [ 0.0419, -0.1876, -0.0496,  0.1764,  0.1241],\n",
              "          [-0.0481, -0.1410,  0.1143,  0.0271,  0.1148]]],\n",
              "\n",
              "\n",
              "        [[[ 0.1183,  0.0177, -0.1875, -0.0068,  0.1312],\n",
              "          [ 0.0916, -0.0450, -0.0747, -0.0378,  0.0843],\n",
              "          [ 0.1071, -0.1833, -0.0082, -0.0331, -0.0639],\n",
              "          [-0.1040,  0.0825,  0.1431, -0.0899,  0.1041],\n",
              "          [-0.1852, -0.0019,  0.0965,  0.1582, -0.1706]]],\n",
              "\n",
              "\n",
              "        [[[ 0.1832, -0.0695,  0.1531, -0.1438, -0.1755],\n",
              "          [ 0.1539,  0.1755, -0.0266, -0.0918, -0.1696],\n",
              "          [ 0.0499, -0.1361, -0.0626, -0.1188,  0.1440],\n",
              "          [-0.1424,  0.0824,  0.1409, -0.0184,  0.0759],\n",
              "          [-0.0021,  0.1636, -0.1691,  0.0866, -0.1378]]],\n",
              "\n",
              "\n",
              "        [[[ 0.0386,  0.0564, -0.0432,  0.1815,  0.0189],\n",
              "          [ 0.1028,  0.1273,  0.1955,  0.0160, -0.1490],\n",
              "          [ 0.0032, -0.0384, -0.1847, -0.0476,  0.0399],\n",
              "          [ 0.0252, -0.0693, -0.0233,  0.1754,  0.1599],\n",
              "          [-0.1799, -0.1777,  0.0106, -0.1397, -0.1093]]],\n",
              "\n",
              "\n",
              "        [[[-0.1501, -0.0800, -0.1647, -0.1671, -0.1100],\n",
              "          [-0.0752, -0.0793,  0.0303,  0.0255, -0.0174],\n",
              "          [-0.1398, -0.1718, -0.1692, -0.1964,  0.0146],\n",
              "          [-0.1870,  0.1770, -0.1592,  0.1125,  0.0837],\n",
              "          [ 0.0742,  0.1503,  0.1633,  0.0897, -0.0314]]]], requires_grad=True)"
            ]
          },
          "metadata": {},
          "execution_count": 7
        }
      ],
      "source": [
        "network.conv1.weight"
      ]
    },
    {
      "cell_type": "code",
      "execution_count": 8,
      "id": "6224a9a1-59ed-4c5d-97d4-bbaaba01cbfd",
      "metadata": {
        "colab": {
          "base_uri": "https://localhost:8080/"
        },
        "id": "6224a9a1-59ed-4c5d-97d4-bbaaba01cbfd",
        "outputId": "4c667868-b905-4f17-e469-6b026572e1c6"
      },
      "outputs": [
        {
          "output_type": "execute_result",
          "data": {
            "text/plain": [
              "0.2279"
            ]
          },
          "metadata": {},
          "execution_count": 8
        }
      ],
      "source": [
        "import numpy as np\n",
        "np.sum([ 0.1856, -0.0193, -0.1007,  0.0579,  0.1044])"
      ]
    },
    {
      "cell_type": "code",
      "execution_count": 9,
      "id": "20b7a719-0ffc-4938-944d-4fe9988ef4ec",
      "metadata": {
        "colab": {
          "base_uri": "https://localhost:8080/"
        },
        "id": "20b7a719-0ffc-4938-944d-4fe9988ef4ec",
        "outputId": "bf4adeea-7507-4695-a5ab-de4ff239c245"
      },
      "outputs": [
        {
          "output_type": "stream",
          "name": "stdout",
          "text": [
            "conv1.weight \t torch.Size([6, 1, 5, 5])\n",
            "conv1.bias \t torch.Size([6])\n",
            "conv2.weight \t torch.Size([12, 6, 5, 5])\n",
            "conv2.bias \t torch.Size([12])\n",
            "fcn1.weight \t torch.Size([120, 192])\n",
            "fcn1.bias \t torch.Size([120])\n",
            "fcn2.weight \t torch.Size([60, 120])\n",
            "fcn2.bias \t torch.Size([60])\n",
            "outNode.weight \t torch.Size([10, 60])\n",
            "outNode.bias \t torch.Size([10])\n"
          ]
        }
      ],
      "source": [
        "#parameter = (inputFeatureValue, outputFeatureValue, KernelValue)\n",
        "\n",
        "# 1. zip\n",
        "# 2. map\n",
        "\n",
        "\n",
        "for layerName, param in network.named_parameters():\n",
        "    print(layerName, \"\\t\", param.shape)"
      ]
    },
    {
      "cell_type": "code",
      "execution_count": 10,
      "id": "d631f880-8ec2-49e9-ab54-86f247d44864",
      "metadata": {
        "colab": {
          "base_uri": "https://localhost:8080/"
        },
        "id": "d631f880-8ec2-49e9-ab54-86f247d44864",
        "outputId": "7bbbabc6-5418-4651-c8f2-db11a947c250"
      },
      "outputs": [
        {
          "output_type": "execute_result",
          "data": {
            "text/plain": [
              "Conv2d(1, 6, kernel_size=(5, 5), stride=(1, 1))"
            ]
          },
          "metadata": {},
          "execution_count": 10
        }
      ],
      "source": [
        "network.conv1"
      ]
    },
    {
      "cell_type": "code",
      "execution_count": 11,
      "id": "3e871667-c5ea-4861-8854-0f621cd40207",
      "metadata": {
        "id": "3e871667-c5ea-4861-8854-0f621cd40207"
      },
      "outputs": [],
      "source": [
        "# weightedSum =  x1*w1 + x2*w2 + ......+ xn*wn 300.52 + 6\n",
        "# weightedSum + bias\n",
        "\n",
        "class CustomNeuralNetork2(nn.Module):\n",
        "    \n",
        "    def __init__(self):\n",
        "        super().__init__()\n",
        "        \n",
        "        #layer1\n",
        "        self.conv1 = nn.Conv2d(in_channels = 1, out_channels = 6, kernel_size = 5)\n",
        "        self.conv2 = nn.Conv2d(in_channels = 6, out_channels = 12, kernel_size = 5)\n",
        "        \n",
        "        # Fully connected. Neural Network\n",
        "        self.fcn1 = nn.Linear(in_features = 12*4*4, out_features = 120, bias = False)\n",
        "        self.fcn2 = nn.Linear(in_features = 120, out_features = 60, bias = False)\n",
        "        \n",
        "        # Flatten() --> Connected Layer or Bridge Layer 2D - 1D\n",
        "        self.outNode = nn.Linear(in_features = 60,out_features =10, bias = False)\n",
        "        \n",
        "        \n",
        "    def forwardPropagation(self, ti):\n",
        "        #return pass\n",
        "        return ti"
      ]
    },
    {
      "cell_type": "code",
      "execution_count": 12,
      "id": "0ee3b917-3ab1-4fd7-b57b-81bc7eb14206",
      "metadata": {
        "id": "0ee3b917-3ab1-4fd7-b57b-81bc7eb14206"
      },
      "outputs": [],
      "source": [
        "network2 = CustomNeuralNetork2()"
      ]
    },
    {
      "cell_type": "code",
      "execution_count": 13,
      "id": "d2ecec30-be2b-4553-aef6-b60042707d6a",
      "metadata": {
        "colab": {
          "base_uri": "https://localhost:8080/"
        },
        "id": "d2ecec30-be2b-4553-aef6-b60042707d6a",
        "outputId": "e573a522-da95-4c73-94e9-67c5df962d0a"
      },
      "outputs": [
        {
          "output_type": "stream",
          "name": "stdout",
          "text": [
            "CustomNeuralNetork2(\n",
            "  (conv1): Conv2d(1, 6, kernel_size=(5, 5), stride=(1, 1))\n",
            "  (conv2): Conv2d(6, 12, kernel_size=(5, 5), stride=(1, 1))\n",
            "  (fcn1): Linear(in_features=192, out_features=120, bias=False)\n",
            "  (fcn2): Linear(in_features=120, out_features=60, bias=False)\n",
            "  (outNode): Linear(in_features=60, out_features=10, bias=False)\n",
            ")\n"
          ]
        }
      ],
      "source": [
        "print(network2)"
      ]
    },
    {
      "cell_type": "code",
      "execution_count": 14,
      "id": "1cc5999b-bc30-406e-9c03-159c9d9e38f1",
      "metadata": {
        "colab": {
          "base_uri": "https://localhost:8080/"
        },
        "id": "1cc5999b-bc30-406e-9c03-159c9d9e38f1",
        "outputId": "b3b8de51-a739-4bd1-8c93-37a073710bf6"
      },
      "outputs": [
        {
          "output_type": "stream",
          "name": "stdout",
          "text": [
            "conv1.weight \t torch.Size([6, 1, 5, 5])\n",
            "conv1.bias \t torch.Size([6])\n",
            "conv2.weight \t torch.Size([12, 6, 5, 5])\n",
            "conv2.bias \t torch.Size([12])\n",
            "fcn1.weight \t torch.Size([120, 192])\n",
            "fcn2.weight \t torch.Size([60, 120])\n",
            "outNode.weight \t torch.Size([10, 60])\n"
          ]
        }
      ],
      "source": [
        "for layerName, param in network2.named_parameters():\n",
        "    print(layerName, \"\\t\", param.shape)"
      ]
    },
    {
      "cell_type": "code",
      "execution_count": null,
      "id": "e2673aa4-8750-4815-82ce-d7ec3c7db400",
      "metadata": {
        "id": "e2673aa4-8750-4815-82ce-d7ec3c7db400"
      },
      "outputs": [],
      "source": []
    }
  ],
  "metadata": {
    "kernelspec": {
      "display_name": "Python 3 (ipykernel)",
      "language": "python",
      "name": "python3"
    },
    "language_info": {
      "codemirror_mode": {
        "name": "ipython",
        "version": 3
      },
      "file_extension": ".py",
      "mimetype": "text/x-python",
      "name": "python",
      "nbconvert_exporter": "python",
      "pygments_lexer": "ipython3",
      "version": "3.7.13"
    },
    "colab": {
      "provenance": [],
      "include_colab_link": true
    }
  },
  "nbformat": 4,
  "nbformat_minor": 5
}