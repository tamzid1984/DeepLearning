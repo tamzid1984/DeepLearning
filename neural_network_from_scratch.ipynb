{
  "metadata": {
    "kernelspec": {
      "language": "python",
      "display_name": "Python 3",
      "name": "python3"
    },
    "language_info": {
      "name": "python",
      "version": "3.7.12",
      "mimetype": "text/x-python",
      "codemirror_mode": {
        "name": "ipython",
        "version": 3
      },
      "pygments_lexer": "ipython3",
      "nbconvert_exporter": "python",
      "file_extension": ".py"
    },
    "colab": {
      "provenance": [],
      "include_colab_link": true
    }
  },
  "nbformat_minor": 0,
  "nbformat": 4,
  "cells": [
    {
      "cell_type": "markdown",
      "metadata": {
        "id": "view-in-github",
        "colab_type": "text"
      },
      "source": [
        "<a href=\"https://colab.research.google.com/github/tamzid1984/DeepLearning/blob/main/neural_network_from_scratch.ipynb\" target=\"_parent\"><img src=\"https://colab.research.google.com/assets/colab-badge.svg\" alt=\"Open In Colab\"/></a>"
      ]
    },
    {
      "cell_type": "markdown",
      "source": [
        "# Mainly 3 Types Layer\n",
        "1. Input Layer- CNN / Dense Layer /Covulated Layer\n",
        "        i.  Relu Layer-Use for feature Passing\n",
        "        ii. Polling Layer -\n",
        "            Downsampling(Max polling,Average polling)\n",
        "            Upsmpling\n",
        "      \n",
        "      iii. Batch Normalization\n",
        "      iv. Dropout Layer\n",
        "        \n",
        "        \n",
        "2. Hidden Layer - NN\n",
        "3. Output Layer-FCNN\n"
      ],
      "metadata": {
        "id": "XMv8aT5hBnhV"
      }
    },
    {
      "cell_type": "markdown",
      "source": [
        "Use Major Framework\n",
        "    1. Tensorflow\n",
        "    2.Pytorch\n",
        "    3.MaxNet\n",
        "\n",
        "Use Library\n",
        "    Numpy\n",
        "    Pandas\n",
        "    Pillow\n",
        "    OpenCV\n",
        "    Scikit Learn\n",
        "\n",
        "Visualization\n",
        "    Plotly\n",
        "    matplotlib\n",
        "    Seaborn\n",
        "    D3.js"
      ],
      "metadata": {
        "id": "zP3mEoH3BnhX"
      }
    },
    {
      "cell_type": "markdown",
      "source": [
        "# Importing Necessary Library"
      ],
      "metadata": {
        "execution": {
          "iopub.status.busy": "2022-11-02T23:23:51.293258Z",
          "iopub.execute_input": "2022-11-02T23:23:51.293628Z",
          "iopub.status.idle": "2022-11-02T23:23:51.300457Z",
          "shell.execute_reply.started": "2022-11-02T23:23:51.293596Z",
          "shell.execute_reply": "2022-11-02T23:23:51.299053Z"
        },
        "id": "VPB4i8mVBnhY"
      }
    },
    {
      "cell_type": "code",
      "source": [
        "# import tensorflow.compact.v1 as tf #for Vesion conversion\n",
        "# This section for model\n",
        "import tensorflow as tf\n",
        "# This section for algebric analysis\n",
        "import numpy as np\n",
        "# This section for Visualization\n",
        "#projection us for 3d analysis.Important for Imageprocessing.use for dimention convertio\n",
        "import matplotlib.pyplot as plt\n",
        "\n",
        "import warnings\n",
        "warnings.filterwarnings('ignore')\n",
        "%matplotlib inline"
      ],
      "metadata": {
        "execution": {
          "iopub.status.busy": "2022-11-02T23:36:29.916851Z",
          "iopub.execute_input": "2022-11-02T23:36:29.917509Z",
          "iopub.status.idle": "2022-11-02T23:36:29.924438Z",
          "shell.execute_reply.started": "2022-11-02T23:36:29.917473Z",
          "shell.execute_reply": "2022-11-02T23:36:29.923484Z"
        },
        "trusted": true,
        "id": "MRXVtrJgBnhY"
      },
      "execution_count": 1,
      "outputs": []
    },
    {
      "cell_type": "code",
      "source": [
        "#help(warnings.filterwarnings)"
      ],
      "metadata": {
        "execution": {
          "iopub.status.busy": "2022-11-02T23:36:10.663302Z",
          "iopub.execute_input": "2022-11-02T23:36:10.663660Z",
          "iopub.status.idle": "2022-11-02T23:36:10.668235Z",
          "shell.execute_reply.started": "2022-11-02T23:36:10.663630Z",
          "shell.execute_reply": "2022-11-02T23:36:10.667156Z"
        },
        "trusted": true,
        "id": "dGDedRvcBnhZ"
      },
      "execution_count": null,
      "outputs": []
    },
    {
      "cell_type": "code",
      "source": [
        "#shadow layer\n",
        "class NeuralNetwork:\n",
        "    def __init__(self, layers):\n",
        "        self.layers= layers #layers creation\n",
        "        self.L=len(layers)  # how many layers create\n",
        "        \n",
        "        self.number_feature=layers[0] #feature counting\n",
        "        self.number_class=layers[-1] # class counting\n",
        "        \n",
        "        self.w={}\n",
        "        self.b={}\n",
        "        \n",
        "        self.dw={}\n",
        "        self.db={}\n",
        "        \n",
        "        self.setup()\n",
        "        \n",
        "    def setup(self):\n",
        "        for i in range(1,self.L):\n",
        "            self.w[i]=tf.Variable(tf.random.normal(shape=(self.layers[i],self.layers[i-1])))\n",
        "            self.b[i]=tf.Variable(tf.random.nomal(shape=(self.layers[i],1)))"
      ],
      "metadata": {
        "execution": {
          "iopub.status.busy": "2022-11-03T00:04:22.519721Z",
          "iopub.execute_input": "2022-11-03T00:04:22.520665Z",
          "iopub.status.idle": "2022-11-03T00:04:22.528312Z",
          "shell.execute_reply.started": "2022-11-03T00:04:22.520628Z",
          "shell.execute_reply": "2022-11-03T00:04:22.527317Z"
        },
        "trusted": true,
        "id": "JZ_cFZP0BnhZ"
      },
      "execution_count": 2,
      "outputs": []
    },
    {
      "cell_type": "markdown",
      "source": [
        "1. dtype=\"float32\"\n",
        "2. dtype=np.float32\n",
        "3. dtype=tf.float32\n",
        "4. dtype=torch.float32"
      ],
      "metadata": {
        "id": "qy1T7Cc1Bnha"
      }
    },
    {
      "cell_type": "code",
      "source": [
        "#suportive layer of previous shadow layer(using inheritance)\n",
        "#Forward Propagation\n",
        "class NeuralNetwork(NeuralNetwork):\n",
        "    def forwardPass(self, A):\n",
        "        A=tf.convert_to_tensor(A,dtype=float32)\n",
        "        for i in range(1,self.L):\n",
        "            Z=tf.matmul(A,tf.transpose(self.w[i])) + tf.transpose(self.b[i])\n",
        "            if i!=self.L-1:\n",
        "                A=tf.nn.relu(Z)\n",
        "            else:\n",
        "                A=Z\n",
        "        return A\n",
        "    "
      ],
      "metadata": {
        "execution": {
          "iopub.status.busy": "2022-11-03T00:23:39.509132Z",
          "iopub.execute_input": "2022-11-03T00:23:39.509499Z",
          "iopub.status.idle": "2022-11-03T00:23:39.517095Z",
          "shell.execute_reply.started": "2022-11-03T00:23:39.509469Z",
          "shell.execute_reply": "2022-11-03T00:23:39.516025Z"
        },
        "trusted": true,
        "id": "4WfDVkOGBnha"
      },
      "execution_count": 3,
      "outputs": []
    },
    {
      "cell_type": "code",
      "source": [
        "# we will use this section for computing loss function and Upgrading the previous parameters\n",
        "class NeuralNetwork(NeuralNetwork):\n",
        "    def comput_loss(self,A,Y):\n",
        "        return tf.reduce_mean(tf.nn.softmax_cross_entropy_with_logits(Y,A))\n",
        "    def upgrade_parameters(self, lr):\n",
        "        for j in range(1, self.L):\n",
        "            self.w[j].assing_sub(lr*self.dw[j])\n",
        "            self.b[j].assing_sub(lr*self.db[j])"
      ],
      "metadata": {
        "execution": {
          "iopub.status.busy": "2022-11-03T00:35:24.677432Z",
          "iopub.execute_input": "2022-11-03T00:35:24.677787Z",
          "iopub.status.idle": "2022-11-03T00:35:24.683927Z",
          "shell.execute_reply.started": "2022-11-03T00:35:24.677753Z",
          "shell.execute_reply": "2022-11-03T00:35:24.682851Z"
        },
        "trusted": true,
        "id": "gxOeNIp9Bnha"
      },
      "execution_count": 4,
      "outputs": []
    },
    {
      "cell_type": "code",
      "source": [
        "#This section use for prediction\n",
        "class NeuralNetwork(NeuralNetwork):\n",
        "    def predict(self,x):\n",
        "        A=self.forwardPass(x)\n",
        "        return tf.argmax(tf.nn.softmax(A),axis=1)\n",
        "    def info(self):\n",
        "        num_params=0\n",
        "        for i in range(1,self.L):\n",
        "            num_params +=self.w[i].shape[0]*self.w[i].shape[1]\n",
        "            num_params +=self.b[i].shape[0]\n",
        "            \n",
        "        print(\"Number of feature: {}\".format(self.number_feature))\n",
        "        print(\"Number of class: {}\".format(self.number_class))\n",
        "        \n",
        "        print(\"Hidden Layer information is\")\n",
        "        \n",
        "        for j in range(1,self.L-1):\n",
        "            print(\"layer {}, Units {}\".format(i,self.layers[j]))\n",
        "            \n",
        "        print(\"Total Parameters: {}\".format(num_params))"
      ],
      "metadata": {
        "execution": {
          "iopub.status.busy": "2022-11-03T00:54:50.079698Z",
          "iopub.execute_input": "2022-11-03T00:54:50.080408Z",
          "iopub.status.idle": "2022-11-03T00:54:50.088346Z",
          "shell.execute_reply.started": "2022-11-03T00:54:50.080370Z",
          "shell.execute_reply": "2022-11-03T00:54:50.087264Z"
        },
        "trusted": true,
        "id": "g5nXWyZeBnhb"
      },
      "execution_count": 5,
      "outputs": []
    },
    {
      "cell_type": "code",
      "source": [
        "# Training Start\n",
        "# class NeuralNetwork(NeuralNetwork):\n",
        "#     def train(self,x_train,y_train,x_test,y_test,epochs,step_per_epochs,batch_size,lr):\n",
        "#         history= {\"val_loss\":[],\n",
        "#                  'train_loss':[],\n",
        "#                  'val_acc':[]}"
      ],
      "metadata": {
        "execution": {
          "iopub.status.busy": "2022-11-03T01:04:31.649000Z",
          "iopub.execute_input": "2022-11-03T01:04:31.649363Z",
          "iopub.status.idle": "2022-11-03T01:04:31.653682Z",
          "shell.execute_reply.started": "2022-11-03T01:04:31.649331Z",
          "shell.execute_reply": "2022-11-03T01:04:31.652746Z"
        },
        "trusted": true,
        "id": "Pv2v0Ez4Bnhb"
      },
      "execution_count": null,
      "outputs": []
    }
  ]
}